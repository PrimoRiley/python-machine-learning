{
 "cells": [
  {
   "cell_type": "markdown",
   "metadata": {},
   "source": [
    "# Table of Contents\n",
    "\n",
    "- **1. [ML Intro](./MLIntro.ipynb)**\n",
    "- **2. [Python Intro](./PythonBasics.ipynb)**\n",
    "- **3. [NumPy Intro](./NumPy-Intro.ipynb)**\n",
    "- **4. [Pandas Intro](./Pandas-Intro.ipynb)**\n",
    "- **5. [Data Visualization](./Data-Visualization.ipynb)**\n",
    "- **6. [Classification with Scikit-Learn](./Classification.ipynb)**\n",
    "- **7. [Model Comparison and Selection](./ModelSelection.ipynb)**\n",
    "- **8. [Feature Engineering](./FeatureEngineering.ipynb)**\n",
    "- **9. [Regression Analysis](./Regression.ipynb)**\n",
    "- **10. [Sentiment Analysis](./SentimentAnalysis.ipynb)**\n",
    "- **11. [Model Deployment](./ModelDeployment.ipynb)**\n",
    "- **12. [Artificial Neural Network](./ArtificialNeuralNetwork.ipynb)**"
   ]
  },
  {
   "cell_type": "code",
   "execution_count": null,
   "metadata": {},
   "outputs": [],
   "source": []
  }
 ],
 "metadata": {
  "kernelspec": {
   "display_name": "Python 3",
   "language": "python",
   "name": "python3"
  },
  "language_info": {
   "codemirror_mode": {
    "name": "ipython",
    "version": 3
   },
   "file_extension": ".py",
   "mimetype": "text/x-python",
   "name": "python",
   "nbconvert_exporter": "python",
   "pygments_lexer": "ipython3",
   "version": "3.8.5"
  }
 },
 "nbformat": 4,
 "nbformat_minor": 4
}
