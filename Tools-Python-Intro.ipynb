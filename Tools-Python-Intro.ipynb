{
 "cells": [
  {
   "cell_type": "markdown",
   "id": "daaf4c50",
   "metadata": {},
   "source": [
    "# Tools\n",
    "\n",
    "- install and learn to use the following tools:\n",
    "    - GitHub and git client\n",
    "    - Terminal\n",
    "    - VS Code\n",
    "    - Kattis\n",
    "    - Jupyter Notebook"
   ]
  },
  {
   "cell_type": "markdown",
   "id": "af444b2c",
   "metadata": {},
   "source": [
    "# Python fundamentals\n",
    "\n",
    "- Learn fundamentals and basic syntax\n",
    "- learn from my Jupyter Notebooks: https://github.com/rambasnet/Python-Fundamentals\n",
    "- find and learn from tutorials, e.g. https://realpython.com/\n",
    "- use interactive mode on a Terminal\n",
    "- use Jupyter Notebook with ipykernel (default) with conda installation\n",
    "- learn how script works\n",
    "- Basic Building Blocks/Concepts\n",
    "    1. Data and Variables\n",
    "    2. Input/Output\n",
    "    3. Basic Math and operators\n",
    "    4. Functions\n",
    "    5. Conditional Statements\n",
    "    6. Loops\n",
    "    "
   ]
  },
  {
   "cell_type": "code",
   "execution_count": 1,
   "id": "6a1e36b5",
   "metadata": {},
   "outputs": [
    {
     "name": "stdout",
     "output_type": "stream",
     "text": [
      "Hello World!\n"
     ]
    }
   ],
   "source": [
    "print('Hello World!')"
   ]
  },
  {
   "cell_type": "markdown",
   "id": "2019f775",
   "metadata": {},
   "source": [
    "## Data and Variables\n",
    "- Fundamental data types\n",
    "- variable declaration and rules\n",
    "- escape sequences - \\n, \\t\n",
    "\n",
    "- work through some examples"
   ]
  },
  {
   "cell_type": "code",
   "execution_count": 1,
   "id": "d540861d",
   "metadata": {},
   "outputs": [],
   "source": [
    "name = \"John Smith\""
   ]
  },
  {
   "cell_type": "code",
   "execution_count": 2,
   "id": "4c073ae3",
   "metadata": {},
   "outputs": [],
   "source": [
    "full_name = \"Michael Jordan\""
   ]
  },
  {
   "cell_type": "code",
   "execution_count": 3,
   "id": "505718cd",
   "metadata": {},
   "outputs": [],
   "source": [
    "lastName = \"Obama\""
   ]
  },
  {
   "cell_type": "code",
   "execution_count": 4,
   "id": "aad4e97d",
   "metadata": {},
   "outputs": [],
   "source": [
    "num = 10"
   ]
  },
  {
   "cell_type": "code",
   "execution_count": 5,
   "id": "bdf465ea",
   "metadata": {},
   "outputs": [],
   "source": [
    "x = 5"
   ]
  },
  {
   "cell_type": "code",
   "execution_count": 6,
   "id": "8d2fa58d",
   "metadata": {},
   "outputs": [],
   "source": [
    "x = 10.5"
   ]
  },
  {
   "cell_type": "code",
   "execution_count": 7,
   "id": "d9044d17",
   "metadata": {},
   "outputs": [],
   "source": [
    "x = \"abc\""
   ]
  },
  {
   "cell_type": "markdown",
   "id": "6be66777",
   "metadata": {},
   "source": [
    "## Standard Input/Output\n",
    "\n",
    "- sys module\n",
    "    - sys.stdin; sys.stdout\n",
    "- input()\n",
    "- print()"
   ]
  },
  {
   "cell_type": "code",
   "execution_count": 10,
   "id": "16e540f5",
   "metadata": {},
   "outputs": [
    {
     "name": "stdout",
     "output_type": "stream",
     "text": [
      "Hello World!\n"
     ]
    }
   ],
   "source": [
    "print('Hello World!')"
   ]
  },
  {
   "cell_type": "code",
   "execution_count": 11,
   "id": "dbcff30a",
   "metadata": {},
   "outputs": [
    {
     "name": "stdout",
     "output_type": "stream",
     "text": [
      "b'Hello World!'\n"
     ]
    }
   ],
   "source": [
    "print(b'Hello World!')"
   ]
  },
  {
   "cell_type": "code",
   "execution_count": 12,
   "id": "94e289ef",
   "metadata": {},
   "outputs": [
    {
     "name": "stdout",
     "output_type": "stream",
     "text": [
      "Enter your full name: John Smith\n"
     ]
    }
   ],
   "source": [
    "name = input(\"Enter your full name: \")"
   ]
  },
  {
   "cell_type": "code",
   "execution_count": 14,
   "id": "55b55e5e",
   "metadata": {},
   "outputs": [
    {
     "name": "stdout",
     "output_type": "stream",
     "text": [
      "Hell there John Smith!\n"
     ]
    }
   ],
   "source": [
    "print(f'Hell there {name}!')"
   ]
  },
  {
   "cell_type": "markdown",
   "id": "cf9f22fe",
   "metadata": {},
   "source": [
    "## Basic Math and operators\n",
    "\n",
    "- math module\n",
    "- some functions inside math\n",
    "- built-in help function\n",
    "- operators: +, -, \\*, \\**, /, //"
   ]
  },
  {
   "cell_type": "code",
   "execution_count": 1,
   "id": "e53ff84c",
   "metadata": {},
   "outputs": [
    {
     "data": {
      "text/plain": [
       "4"
      ]
     },
     "execution_count": 1,
     "metadata": {},
     "output_type": "execute_result"
    }
   ],
   "source": [
    "2+2"
   ]
  },
  {
   "cell_type": "code",
   "execution_count": 2,
   "id": "311c2ee6",
   "metadata": {},
   "outputs": [
    {
     "data": {
      "text/plain": [
       "0"
      ]
     },
     "execution_count": 2,
     "metadata": {},
     "output_type": "execute_result"
    }
   ],
   "source": [
    "2-2"
   ]
  },
  {
   "cell_type": "code",
   "execution_count": 3,
   "id": "1e52020a",
   "metadata": {},
   "outputs": [
    {
     "data": {
      "text/plain": [
       "4"
      ]
     },
     "execution_count": 3,
     "metadata": {},
     "output_type": "execute_result"
    }
   ],
   "source": [
    "2*2"
   ]
  },
  {
   "cell_type": "code",
   "execution_count": 4,
   "id": "ea4c5138",
   "metadata": {},
   "outputs": [
    {
     "data": {
      "text/plain": [
       "8"
      ]
     },
     "execution_count": 4,
     "metadata": {},
     "output_type": "execute_result"
    }
   ],
   "source": [
    "2**3"
   ]
  },
  {
   "cell_type": "code",
   "execution_count": 5,
   "id": "e6030d06",
   "metadata": {},
   "outputs": [
    {
     "data": {
      "text/plain": [
       "1.3333333333333333"
      ]
     },
     "execution_count": 5,
     "metadata": {},
     "output_type": "execute_result"
    }
   ],
   "source": [
    "4/3"
   ]
  },
  {
   "cell_type": "code",
   "execution_count": 6,
   "id": "50ac677c",
   "metadata": {},
   "outputs": [
    {
     "data": {
      "text/plain": [
       "1"
      ]
     },
     "execution_count": 6,
     "metadata": {},
     "output_type": "execute_result"
    }
   ],
   "source": [
    "4//3"
   ]
  },
  {
   "cell_type": "markdown",
   "id": "6cfdbd5a",
   "metadata": {},
   "source": [
    "## Functions and return value\n",
    "\n",
    "- function definition syntax\n",
    "- type of functions (fruitful and fruitless/None)\n",
    "\n",
    "- work through some examples"
   ]
  },
  {
   "cell_type": "markdown",
   "id": "12078490",
   "metadata": {},
   "source": [
    "## Conditional Statements\n",
    "\n",
    "- one way\n",
    "- two way\n",
    "- multiway selectors"
   ]
  },
  {
   "cell_type": "code",
   "execution_count": 8,
   "id": "83b849ef",
   "metadata": {},
   "outputs": [],
   "source": [
    "a = 10"
   ]
  },
  {
   "cell_type": "code",
   "execution_count": 9,
   "id": "bc2d9874",
   "metadata": {},
   "outputs": [
    {
     "name": "stdout",
     "output_type": "stream",
     "text": [
      "even\n"
     ]
    }
   ],
   "source": [
    "if a %2 ==0:\n",
    "    print('even')"
   ]
  },
  {
   "cell_type": "code",
   "execution_count": 10,
   "id": "14f03cd8",
   "metadata": {},
   "outputs": [
    {
     "name": "stdout",
     "output_type": "stream",
     "text": [
      "even\n"
     ]
    }
   ],
   "source": [
    "if a%2 == 0:\n",
    "    print('even')\n",
    "else:\n",
    "    print('odd')"
   ]
  },
  {
   "cell_type": "code",
   "execution_count": 11,
   "id": "e6c6662a",
   "metadata": {},
   "outputs": [
    {
     "name": "stdout",
     "output_type": "stream",
     "text": [
      "even\n"
     ]
    }
   ],
   "source": [
    "if a == 0:\n",
    "    print(f'{a=}')\n",
    "elif a%2 ==0:\n",
    "    print('even')\n",
    "else:\n",
    "    print('odd')"
   ]
  },
  {
   "cell_type": "code",
   "execution_count": 7,
   "id": "26f815f5",
   "metadata": {},
   "outputs": [
    {
     "name": "stdout",
     "output_type": "stream",
     "text": [
      "Enter an integer:10\n",
      "10 is Even.\n"
     ]
    }
   ],
   "source": [
    "num = int(input('Enter an integer:' ))\n",
    "if num == 0:\n",
    "    print(f'{num} is Zero.')\n",
    "elif num%2 == 0:\n",
    "    print(f'{num} is Even.')\n",
    "else:\n",
    "    print(f'{num} is odd.')"
   ]
  },
  {
   "cell_type": "markdown",
   "id": "3e0b561e",
   "metadata": {},
   "source": [
    "## Loops\n",
    "\n",
    "- for loop\n",
    "- while loop"
   ]
  },
  {
   "cell_type": "code",
   "execution_count": 15,
   "id": "ea65ea8a",
   "metadata": {},
   "outputs": [
    {
     "name": "stdout",
     "output_type": "stream",
     "text": [
      "1 Mississippi!\n",
      "2 Mississippi!\n",
      "3 Mississippi!\n",
      "4 Mississippi!\n",
      "5 Mississippi!\n",
      "6 Mississippi!\n",
      "7 Mississippi!\n",
      "8 Mississippi!\n",
      "9 Mississippi!\n",
      "10 Mississippi!\n"
     ]
    }
   ],
   "source": [
    "for i in range(10):\n",
    "    print(f'{i+1} Mississippi!')"
   ]
  },
  {
   "cell_type": "code",
   "execution_count": 16,
   "id": "7fe1f1fb",
   "metadata": {},
   "outputs": [
    {
     "name": "stdout",
     "output_type": "stream",
     "text": [
      "Enter a number: 1\n",
      "You entered 1\n",
      "Enter a number: 10\n",
      "You entered 10\n",
      "Enter a number: 0\n"
     ]
    }
   ],
   "source": [
    "while True:\n",
    "    num = input('Enter a number: ')\n",
    "    if num == '0':\n",
    "        break\n",
    "    else:\n",
    "        print(f'You entered {num}')"
   ]
  },
  {
   "cell_type": "markdown",
   "id": "95ea23b6",
   "metadata": {},
   "source": [
    "## Built-in Data Structures\n",
    "\n",
    "### Tuple"
   ]
  },
  {
   "cell_type": "code",
   "execution_count": 17,
   "id": "69d566a0",
   "metadata": {},
   "outputs": [],
   "source": [
    "a = (1, 2, 'hello')"
   ]
  },
  {
   "cell_type": "code",
   "execution_count": 18,
   "id": "dc53c47b",
   "metadata": {},
   "outputs": [
    {
     "data": {
      "text/plain": [
       "'hello'"
      ]
     },
     "execution_count": 18,
     "metadata": {},
     "output_type": "execute_result"
    }
   ],
   "source": [
    "a[-1]"
   ]
  },
  {
   "cell_type": "markdown",
   "id": "8a8d430c",
   "metadata": {},
   "source": [
    "### List\n",
    "- similar to array/vector in C++"
   ]
  },
  {
   "cell_type": "code",
   "execution_count": 19,
   "id": "cc72a778",
   "metadata": {},
   "outputs": [],
   "source": [
    "values = [1, 2, 'hi', [1, 2, 3], a]"
   ]
  },
  {
   "cell_type": "code",
   "execution_count": 20,
   "id": "9fb37395",
   "metadata": {},
   "outputs": [
    {
     "data": {
      "text/plain": [
       "[1, 2, 'hi', [1, 2, 3], (1, 2, 'hello')]"
      ]
     },
     "execution_count": 20,
     "metadata": {},
     "output_type": "execute_result"
    }
   ],
   "source": [
    "values"
   ]
  },
  {
   "cell_type": "markdown",
   "id": "606686e8",
   "metadata": {},
   "source": [
    "### Dictionary\n",
    "- key->vlue mapping DS"
   ]
  },
  {
   "cell_type": "code",
   "execution_count": 30,
   "id": "01edcdbb",
   "metadata": {},
   "outputs": [],
   "source": [
    "engToSpan = {'one': 'uno'}"
   ]
  },
  {
   "cell_type": "code",
   "execution_count": 31,
   "id": "06761be2",
   "metadata": {},
   "outputs": [],
   "source": [
    "engToSpan['two'] = 'dos'"
   ]
  },
  {
   "cell_type": "code",
   "execution_count": 32,
   "id": "e607a3f0",
   "metadata": {},
   "outputs": [
    {
     "data": {
      "text/plain": [
       "{'one': 'uno', 'two': 'dos'}"
      ]
     },
     "execution_count": 32,
     "metadata": {},
     "output_type": "execute_result"
    }
   ],
   "source": [
    "engToSpan"
   ]
  },
  {
   "cell_type": "code",
   "execution_count": 33,
   "id": "4310acac",
   "metadata": {},
   "outputs": [
    {
     "data": {
      "text/plain": [
       "'uno'"
      ]
     },
     "execution_count": 33,
     "metadata": {},
     "output_type": "execute_result"
    }
   ],
   "source": [
    "engToSpan['one']"
   ]
  },
  {
   "cell_type": "markdown",
   "id": "7a62ba14",
   "metadata": {},
   "source": [
    "## Modules\n",
    "- see `python/module.py` file\n",
    "\n",
    "## System command\n",
    "- execute system/shell commands from with Python\n",
    "\n",
    "### os.system()"
   ]
  },
  {
   "cell_type": "code",
   "execution_count": 21,
   "id": "104003b9",
   "metadata": {},
   "outputs": [],
   "source": [
    "import os"
   ]
  },
  {
   "cell_type": "code",
   "execution_count": 22,
   "id": "cb064d81",
   "metadata": {},
   "outputs": [
    {
     "name": "stdout",
     "output_type": "stream",
     "text": [
      "git version 2.37.1 (Apple Git-137.1)\n",
      "returned: 0\n"
     ]
    }
   ],
   "source": [
    "cmd = \"git --version\"\n",
    "ret_val = os.system(cmd)\n",
    "print(f'returned: {ret_val}')"
   ]
  },
  {
   "cell_type": "markdown",
   "id": "032458b5",
   "metadata": {},
   "source": [
    "### subprocess.call()\n",
    "- subprocess.check_output() allows to store the output in a variable"
   ]
  },
  {
   "cell_type": "code",
   "execution_count": 23,
   "id": "29d0e255",
   "metadata": {},
   "outputs": [],
   "source": [
    "import subprocess"
   ]
  },
  {
   "cell_type": "code",
   "execution_count": 24,
   "id": "713134f7",
   "metadata": {},
   "outputs": [
    {
     "name": "stdout",
     "output_type": "stream",
     "text": [
      "git version 2.37.1 (Apple Git-137.1)\n"
     ]
    }
   ],
   "source": [
    "ret_val = subprocess.call(cmd, shell=True)"
   ]
  },
  {
   "cell_type": "code",
   "execution_count": 25,
   "id": "b1ba27f1",
   "metadata": {},
   "outputs": [],
   "source": [
    "output = subprocess.check_output(cmd, shell=True)"
   ]
  },
  {
   "cell_type": "code",
   "execution_count": 28,
   "id": "95047402",
   "metadata": {},
   "outputs": [
    {
     "name": "stdout",
     "output_type": "stream",
     "text": [
      "b'git version 2.37.1 (Apple Git-137.1)\\n'\n"
     ]
    }
   ],
   "source": [
    "# print the output binary in ASCII\n",
    "print(output)"
   ]
  },
  {
   "cell_type": "code",
   "execution_count": 29,
   "id": "51515268",
   "metadata": {},
   "outputs": [
    {
     "name": "stdout",
     "output_type": "stream",
     "text": [
      "103 105 116 32 118 101 114 115 105 111 110 32 50 46 51 55 46 49 32 40 65 112 112 108 101 32 71 105 116 45 49 51 55 46 49 41 10\n"
     ]
    }
   ],
   "source": [
    "print(*output)"
   ]
  },
  {
   "cell_type": "code",
   "execution_count": 27,
   "id": "277cc25c",
   "metadata": {},
   "outputs": [
    {
     "name": "stdout",
     "output_type": "stream",
     "text": [
      "git version 2.37.1 (Apple Git-137.1)\n",
      "\n"
     ]
    }
   ],
   "source": [
    "# print the returned binary as a utf-8 encoded string\n",
    "print(output.decode('utf-8'))"
   ]
  },
  {
   "cell_type": "markdown",
   "id": "6e3697d2",
   "metadata": {},
   "source": [
    "## Exercise\n",
    "\n",
    "- Complete the following quizzes from: https://realpython.com/quizzes/\n",
    "- Take the screenshot of the first attempt. Take the screenshot of the final attempt when you receive 100%\n",
    "\n",
    "1. Basic Data Types in Python ( https://realpython.com/quizzes/python-data-types/) \n",
    "2. How to Run Your Python Scrpts (https://realpython.com/quizzes/run-python-scripts/)\n",
    "3. Python Basics: Code Your First Python Program - https://realpython.com/quizzes/python-basics-first-program/\n",
    "4. Python Basics: Conditional Logic and Control Flow (https://realpython.com/quizzes/python-basics-conditional-logic-and-control-flow/)\n",
    "5. Python Basics: Dictionaries - https://realpython.com/quizzes/python-basics-dictionaries/\n",
    "6. Python Basics: Functions and Loops - https://realpython.com/quizzes/python-basics-functions-and-loops/\n",
    "7. Python Basics: Numbers and Math - https://realpython.com/quizzes/python-basics-numbers-and-math/\n",
    "8. Python Basics: Scopes - https://realpython.com/quizzes/python-basics-scopes/\n",
    "9. Python Basics: Strings and String Methods - https://realpython.com/quizzes/python-basics-strings-and-string-methods/\n",
    "10. Python Basics: Python Lists and Tuples - https://realpython.com/quizzes/python-lists-tuples/\n",
    "11. Python Operators and Expressions - https://realpython.com/quizzes/python-operators-expressions/\n",
    "12. Python f-String: https://realpython.com/quizzes/f-strings/\n",
    "13. HTTP Requests with \"requests\" Library - https://realpython.com/quizzes/python-requests/\n"
   ]
  },
  {
   "cell_type": "code",
   "execution_count": null,
   "id": "e94845e1",
   "metadata": {},
   "outputs": [],
   "source": []
  }
 ],
 "metadata": {
  "kernelspec": {
   "display_name": "Python 3 (ipykernel)",
   "language": "python",
   "name": "python3"
  },
  "language_info": {
   "codemirror_mode": {
    "name": "ipython",
    "version": 3
   },
   "file_extension": ".py",
   "mimetype": "text/x-python",
   "name": "python",
   "nbconvert_exporter": "python",
   "pygments_lexer": "ipython3",
   "version": "3.10.8"
  }
 },
 "nbformat": 4,
 "nbformat_minor": 5
}
