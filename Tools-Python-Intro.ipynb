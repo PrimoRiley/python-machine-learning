{
 "cells": [
  {
   "cell_type": "markdown",
   "id": "daaf4c50",
   "metadata": {},
   "source": [
    "# Tools\n",
    "\n",
    "- install and learn to use the following tools:\n",
    "    - GitHub and git client\n",
    "    - Terminal\n",
    "    - VS Code\n",
    "    - Kattis\n",
    "    - Jupyter Notebook"
   ]
  },
  {
   "cell_type": "markdown",
   "id": "af444b2c",
   "metadata": {},
   "source": [
    "# Python fundamentals\n",
    "\n",
    "- Learn fundamentals and basic syntax\n",
    "- learn from my Jupyter Notebooks: https://github.com/rambasnet/Python-Fundamentals\n",
    "- find and learn from tutorials, e.g. https://realpython.com/\n",
    "- use interactive mode on a Terminal\n",
    "- use Jupyter Notebook with ipykernel (default) with conda installation\n",
    "- learn how script works\n",
    "- Basic Building Blocks/Concepts\n",
    "    1. Data and Variables\n",
    "    2. Input/Output\n",
    "    3. Basic Math and operators\n",
    "    4. Functions\n",
    "    5. Conditional Statements\n",
    "    6. Loops\n",
    "    "
   ]
  },
  {
   "cell_type": "code",
   "execution_count": 1,
   "id": "6a1e36b5",
   "metadata": {},
   "outputs": [
    {
     "name": "stdout",
     "output_type": "stream",
     "text": [
      "Hello World!\n"
     ]
    }
   ],
   "source": [
    "print('Hello World!')"
   ]
  },
  {
   "cell_type": "markdown",
   "id": "2019f775",
   "metadata": {},
   "source": [
    "## Data and Variables\n",
    "- Fundamental data types\n",
    "- variable declaration and rules\n",
    "- escape sequences - \\n, \\t\n",
    "\n",
    "- work through some examples"
   ]
  },
  {
   "cell_type": "code",
   "execution_count": null,
   "id": "d540861d",
   "metadata": {},
   "outputs": [],
   "source": []
  },
  {
   "cell_type": "markdown",
   "id": "6be66777",
   "metadata": {},
   "source": [
    "## Standard Input/Output\n",
    "\n",
    "- sys module\n",
    "    - sys.stdin; sys.stdout\n",
    "- input()\n",
    "- print()"
   ]
  },
  {
   "cell_type": "markdown",
   "id": "cf9f22fe",
   "metadata": {},
   "source": [
    "## Basic Math and operators\n",
    "\n",
    "- math module\n",
    "- some functions inside math\n",
    "- built-in help function\n",
    "- operators: +, -, \\*, \\**, /, //"
   ]
  },
  {
   "cell_type": "markdown",
   "id": "6cfdbd5a",
   "metadata": {},
   "source": [
    "## Functions and return value\n",
    "\n",
    "- function definition syntax\n",
    "- type of functions (fruitful and fruitless/None)\n",
    "\n",
    "- work through some examples"
   ]
  },
  {
   "cell_type": "markdown",
   "id": "12078490",
   "metadata": {},
   "source": [
    "## Conditional Statements\n",
    "\n",
    "- one way\n",
    "- two way\n",
    "- multiway selectors"
   ]
  },
  {
   "cell_type": "markdown",
   "id": "3e0b561e",
   "metadata": {},
   "source": [
    "## Loops\n",
    "\n",
    "- for loop\n",
    "- while loop"
   ]
  },
  {
   "cell_type": "markdown",
   "id": "6e3697d2",
   "metadata": {},
   "source": [
    "## Exercise\n",
    "\n",
    "- Complete the following quizzes from: https://realpython.com/quizzes/\n",
    "- Take the screenshot of the first attempt. Take the screenshot of the final attempt when you receive 100%\n",
    "\n",
    "1. Basic Data Types in Python ( https://realpython.com/quizzes/python-data-types/) \n",
    "2. How to Run Your Python Scrpts (https://realpython.com/quizzes/run-python-scripts/)\n",
    "3. Python Basics: Code Your First Python Program - https://realpython.com/quizzes/python-basics-first-program/\n",
    "4. Python Basics: Conditional Logic and Control Flow (https://realpython.com/quizzes/python-basics-conditional-logic-and-control-flow/)\n",
    "5. Python Basics: Dictionaries - https://realpython.com/quizzes/python-basics-dictionaries/\n",
    "6. Python Basics: Functions and Loops - https://realpython.com/quizzes/python-basics-functions-and-loops/\n",
    "7. Python Basics: Numbers and Math - https://realpython.com/quizzes/python-basics-numbers-and-math/\n",
    "8. Python Basics: Scopes - https://realpython.com/quizzes/python-basics-scopes/\n",
    "9. Python Basics: Strings and String Methods - https://realpython.com/quizzes/python-basics-strings-and-string-methods/\n",
    "10. Python Basics: Python Lists and Tuples - https://realpython.com/quizzes/python-lists-tuples/\n",
    "11. Python Operators and Expressions - https://realpython.com/quizzes/python-operators-expressions/\n",
    "12. Python f-String: https://realpython.com/quizzes/f-strings/\n",
    "13. HTTP Requests with \"requests\" Library - https://realpython.com/quizzes/python-requests/\n"
   ]
  },
  {
   "cell_type": "code",
   "execution_count": null,
   "id": "e94845e1",
   "metadata": {},
   "outputs": [],
   "source": []
  }
 ],
 "metadata": {
  "kernelspec": {
   "display_name": "Python 3 (ipykernel)",
   "language": "python",
   "name": "python3"
  },
  "language_info": {
   "codemirror_mode": {
    "name": "ipython",
    "version": 3
   },
   "file_extension": ".py",
   "mimetype": "text/x-python",
   "name": "python",
   "nbconvert_exporter": "python",
   "pygments_lexer": "ipython3",
   "version": "3.10.8"
  }
 },
 "nbformat": 4,
 "nbformat_minor": 5
}
